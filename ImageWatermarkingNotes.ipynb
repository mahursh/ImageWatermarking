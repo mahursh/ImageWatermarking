{
  "cells": [
    {
      "cell_type": "markdown",
      "source": [
        "In this project, we will see how we can add a watermark o an image. Adding a watermark works as a copywrite for your image, so that no one can illegally use your image or document. We will use OpenCV for this project to add logl and text as a watermark."
      ],
      "metadata": {
        "id": "7dd8360a-8a0a-42a6-af65-3a708f4fe165"
      },
      "id": "7dd8360a-8a0a-42a6-af65-3a708f4fe165"
    },
    {
      "cell_type": "code",
      "source": [],
      "metadata": {
        "id": "GqPbJ0E93BSu"
      },
      "id": "GqPbJ0E93BSu",
      "execution_count": null,
      "outputs": []
    }
  ],
  "metadata": {
    "kernelspec": {
      "display_name": "Python 3 (ipykernel)",
      "language": "python",
      "name": "python3"
    },
    "language_info": {
      "codemirror_mode": {
        "name": "ipython",
        "version": 3
      },
      "file_extension": ".py",
      "mimetype": "text/x-python",
      "name": "python",
      "nbconvert_exporter": "python",
      "pygments_lexer": "ipython3",
      "version": "3.12.7"
    },
    "colab": {
      "provenance": []
    }
  },
  "nbformat": 4,
  "nbformat_minor": 5
}